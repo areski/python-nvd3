{
 "metadata": {
  "name": ""
 },
 "nbformat": 3,
 "nbformat_minor": 0,
 "worksheets": [
  {
   "cells": [
    {
     "cell_type": "markdown",
     "metadata": {},
     "source": [
      "Examples for Python-nvd3 is a Python wrapper for NVD3 graph library.\n",
      "NVD3 is an attempt to build re-usable charts and chart components\n",
      "for d3.js without taking away the power that d3.js gives you.\n",
      "\n",
      "Project location : https://github.com/areski/python-nvd3"
     ]
    },
    {
     "cell_type": "code",
     "collapsed": false,
     "input": [
      "import nvd3\n",
      "nvd3.initialize_notebook(local=False)"
     ],
     "language": "python",
     "metadata": {},
     "outputs": [
      {
       "javascript": [
        "$.getScript(\"http://d3js.org/d3.v3.min.js\", function() {\n",
        "        $.getScript(\"http://nvd3.org/nv.d3.js\", function() {\n",
        "            $([IPython.events]).trigger(\"vega_loaded.vincent\");\n",
        "        })\n",
        "    });"
       ],
       "metadata": {},
       "output_type": "display_data",
       "text": [
        "<IPython.core.display.Javascript at 0x2fa7150>"
       ]
      },
      {
       "html": [
        "<link media=\"all\" href=\"http://nvd3.org/src/nv.d3.css\" type=\"text/css\" \n",
        "                rel=\"stylesheet\"/>"
       ],
       "metadata": {},
       "output_type": "display_data",
       "text": [
        "<IPython.core.display.HTML at 0x2fa7150>"
       ]
      }
     ],
     "prompt_number": 1
    },
    {
     "cell_type": "code",
     "collapsed": false,
     "input": [
      "from nvd3 import scatterChart\n",
      "import random"
     ],
     "language": "python",
     "metadata": {},
     "outputs": [],
     "prompt_number": 2
    },
    {
     "cell_type": "code",
     "collapsed": false,
     "input": [
      "chart = scatterChart(name='scatterChart_1', width=600, height=300, x_is_date=False)\n",
      "nb_element = 50\n",
      "xdata = [i + random.randint(1, 10) for i in range(nb_element)]\n",
      "ydata = [i * random.randint(1, 10) for i in range(nb_element)]\n",
      "ydata2 = [x * 2 for x in ydata]\n",
      "ydata3 = [x * 5 for x in ydata]\n",
      "\n",
      "kwargs1 = {'shape': 'circle', 'size': '1'}\n",
      "kwargs2 = {'shape': 'cross', 'size': '10'}\n",
      "kwargs3 = {'shape': 'triangle-up', 'size': '100'}\n",
      "\n",
      "extra_serie = {\"tooltip\": {\"y_start\": \"\", \"y_end\": \" calls\"}}\n",
      "chart.add_serie(name=\"serie 1\", y=ydata, x=xdata, extra=extra_serie, **kwargs1)\n",
      "chart.add_serie(name=\"serie 2\", y=ydata2, x=xdata, extra=extra_serie, **kwargs2)\n",
      "chart.add_serie(name=\"serie 3\", y=ydata3, x=xdata, extra=extra_serie, **kwargs3)\n",
      "\n",
      "chart.display()"
     ],
     "language": "python",
     "metadata": {},
     "outputs": [
      {
       "html": [
        "<div id=\"scatterChart_1\"><svg style=\"width:600px;height:300px;\"></svg></div>\n",
        "\n",
        "<script type=\"text/javascript\">\n",
        "    nv.addGraph(function() {\n",
        "        var chart = nv.models.scatterChart()\n",
        "            .showDistX(true)\n",
        "            .showDistY(true)\n",
        "            .color(d3.scale.category10().range());\n",
        "        chart.xAxis\n",
        "            .tickFormat(d3.format(',.02f'));\n",
        "        chart.yAxis\n",
        "            .tickFormat(d3.format(',.02f'));\n",
        "        chart.tooltipContent(function(key, y, e, graph) {\n",
        "            var x = String(graph.point.x);\n",
        "            var y = String(graph.point.y);\n",
        "            if(key == 'serie 1'){\n",
        "                var y =  String(graph.point.y)  + ' calls';\n",
        "            }\n",
        "            if(key == 'serie 2'){\n",
        "                var y =  String(graph.point.y)  + ' calls';\n",
        "            }\n",
        "            if(key == 'serie 3'){\n",
        "                var y =  String(graph.point.y)  + ' calls';\n",
        "            }\n",
        "            tooltip_str = '<center><b>'+key+'</b></center>' + y + ' at ' + x;\n",
        "            return tooltip_str;\n",
        "        });\n",
        "        chart.showLegend(true);\n",
        "        d3.select('#scatterChart_1 svg')\n",
        "            .datum(data_scatterChart_1)\n",
        "            .transition().duration(500)\n",
        "            .attr('width', 600)\n",
        ".attr('height', 300)\n",
        "            .call(chart);\n",
        "\n",
        "    return chart;\n",
        "});data_scatterChart_1=[{\"values\": [{\"y\": 0, \"x\": 6, \"shape\": \"circle\", \"size\": \"1\"}, {\"y\": 8, \"x\": 11, \"shape\": \"circle\", \"size\": \"1\"}, {\"y\": 20, \"x\": 3, \"shape\": \"circle\", \"size\": \"1\"}, {\"y\": 27, \"x\": 4, \"shape\": \"circle\", \"size\": \"1\"}, {\"y\": 36, \"x\": 12, \"shape\": \"circle\", \"size\": \"1\"}, {\"y\": 20, \"x\": 6, \"shape\": \"circle\", \"size\": \"1\"}, {\"y\": 60, \"x\": 11, \"shape\": \"circle\", \"size\": \"1\"}, {\"y\": 28, \"x\": 8, \"shape\": \"circle\", \"size\": \"1\"}, {\"y\": 80, \"x\": 18, \"shape\": \"circle\", \"size\": \"1\"}, {\"y\": 63, \"x\": 19, \"shape\": \"circle\", \"size\": \"1\"}, {\"y\": 50, \"x\": 11, \"shape\": \"circle\", \"size\": \"1\"}, {\"y\": 88, \"x\": 20, \"shape\": \"circle\", \"size\": \"1\"}, {\"y\": 12, \"x\": 15, \"shape\": \"circle\", \"size\": \"1\"}, {\"y\": 26, \"x\": 14, \"shape\": \"circle\", \"size\": \"1\"}, {\"y\": 126, \"x\": 21, \"shape\": \"circle\", \"size\": \"1\"}, {\"y\": 120, \"x\": 16, \"shape\": \"circle\", \"size\": \"1\"}, {\"y\": 16, \"x\": 21, \"shape\": \"circle\", \"size\": \"1\"}, {\"y\": 136, \"x\": 24, \"shape\": \"circle\", \"size\": \"1\"}, {\"y\": 90, \"x\": 23, \"shape\": \"circle\", \"size\": \"1\"}, {\"y\": 190, \"x\": 21, \"shape\": \"circle\", \"size\": \"1\"}, {\"y\": 60, \"x\": 27, \"shape\": \"circle\", \"size\": \"1\"}, {\"y\": 168, \"x\": 27, \"shape\": \"circle\", \"size\": \"1\"}, {\"y\": 176, \"x\": 27, \"shape\": \"circle\", \"size\": \"1\"}, {\"y\": 161, \"x\": 24, \"shape\": \"circle\", \"size\": \"1\"}, {\"y\": 72, \"x\": 27, \"shape\": \"circle\", \"size\": \"1\"}, {\"y\": 50, \"x\": 34, \"shape\": \"circle\", \"size\": \"1\"}, {\"y\": 182, \"x\": 29, \"shape\": \"circle\", \"size\": \"1\"}, {\"y\": 243, \"x\": 32, \"shape\": \"circle\", \"size\": \"1\"}, {\"y\": 168, \"x\": 34, \"shape\": \"circle\", \"size\": \"1\"}, {\"y\": 232, \"x\": 36, \"shape\": \"circle\", \"size\": \"1\"}, {\"y\": 120, \"x\": 40, \"shape\": \"circle\", \"size\": \"1\"}, {\"y\": 62, \"x\": 34, \"shape\": \"circle\", \"size\": \"1\"}, {\"y\": 224, \"x\": 35, \"shape\": \"circle\", \"size\": \"1\"}, {\"y\": 99, \"x\": 41, \"shape\": \"circle\", \"size\": \"1\"}, {\"y\": 102, \"x\": 41, \"shape\": \"circle\", \"size\": \"1\"}, {\"y\": 140, \"x\": 38, \"shape\": \"circle\", \"size\": \"1\"}, {\"y\": 108, \"x\": 38, \"shape\": \"circle\", \"size\": \"1\"}, {\"y\": 111, \"x\": 46, \"shape\": \"circle\", \"size\": \"1\"}, {\"y\": 76, \"x\": 46, \"shape\": \"circle\", \"size\": \"1\"}, {\"y\": 390, \"x\": 40, \"shape\": \"circle\", \"size\": \"1\"}, {\"y\": 320, \"x\": 46, \"shape\": \"circle\", \"size\": \"1\"}, {\"y\": 246, \"x\": 49, \"shape\": \"circle\", \"size\": \"1\"}, {\"y\": 126, \"x\": 46, \"shape\": \"circle\", \"size\": \"1\"}, {\"y\": 215, \"x\": 45, \"shape\": \"circle\", \"size\": \"1\"}, {\"y\": 88, \"x\": 51, \"shape\": \"circle\", \"size\": \"1\"}, {\"y\": 450, \"x\": 53, \"shape\": \"circle\", \"size\": \"1\"}, {\"y\": 92, \"x\": 52, \"shape\": \"circle\", \"size\": \"1\"}, {\"y\": 94, \"x\": 51, \"shape\": \"circle\", \"size\": \"1\"}, {\"y\": 432, \"x\": 57, \"shape\": \"circle\", \"size\": \"1\"}, {\"y\": 196, \"x\": 57, \"shape\": \"circle\", \"size\": \"1\"}], \"key\": \"serie 1\", \"yAxis\": \"1\"}, {\"values\": [{\"y\": 0, \"x\": 6, \"shape\": \"cross\", \"size\": \"10\"}, {\"y\": 16, \"x\": 11, \"shape\": \"cross\", \"size\": \"10\"}, {\"y\": 40, \"x\": 3, \"shape\": \"cross\", \"size\": \"10\"}, {\"y\": 54, \"x\": 4, \"shape\": \"cross\", \"size\": \"10\"}, {\"y\": 72, \"x\": 12, \"shape\": \"cross\", \"size\": \"10\"}, {\"y\": 40, \"x\": 6, \"shape\": \"cross\", \"size\": \"10\"}, {\"y\": 120, \"x\": 11, \"shape\": \"cross\", \"size\": \"10\"}, {\"y\": 56, \"x\": 8, \"shape\": \"cross\", \"size\": \"10\"}, {\"y\": 160, \"x\": 18, \"shape\": \"cross\", \"size\": \"10\"}, {\"y\": 126, \"x\": 19, \"shape\": \"cross\", \"size\": \"10\"}, {\"y\": 100, \"x\": 11, \"shape\": \"cross\", \"size\": \"10\"}, {\"y\": 176, \"x\": 20, \"shape\": \"cross\", \"size\": \"10\"}, {\"y\": 24, \"x\": 15, \"shape\": \"cross\", \"size\": \"10\"}, {\"y\": 52, \"x\": 14, \"shape\": \"cross\", \"size\": \"10\"}, {\"y\": 252, \"x\": 21, \"shape\": \"cross\", \"size\": \"10\"}, {\"y\": 240, \"x\": 16, \"shape\": \"cross\", \"size\": \"10\"}, {\"y\": 32, \"x\": 21, \"shape\": \"cross\", \"size\": \"10\"}, {\"y\": 272, \"x\": 24, \"shape\": \"cross\", \"size\": \"10\"}, {\"y\": 180, \"x\": 23, \"shape\": \"cross\", \"size\": \"10\"}, {\"y\": 380, \"x\": 21, \"shape\": \"cross\", \"size\": \"10\"}, {\"y\": 120, \"x\": 27, \"shape\": \"cross\", \"size\": \"10\"}, {\"y\": 336, \"x\": 27, \"shape\": \"cross\", \"size\": \"10\"}, {\"y\": 352, \"x\": 27, \"shape\": \"cross\", \"size\": \"10\"}, {\"y\": 322, \"x\": 24, \"shape\": \"cross\", \"size\": \"10\"}, {\"y\": 144, \"x\": 27, \"shape\": \"cross\", \"size\": \"10\"}, {\"y\": 100, \"x\": 34, \"shape\": \"cross\", \"size\": \"10\"}, {\"y\": 364, \"x\": 29, \"shape\": \"cross\", \"size\": \"10\"}, {\"y\": 486, \"x\": 32, \"shape\": \"cross\", \"size\": \"10\"}, {\"y\": 336, \"x\": 34, \"shape\": \"cross\", \"size\": \"10\"}, {\"y\": 464, \"x\": 36, \"shape\": \"cross\", \"size\": \"10\"}, {\"y\": 240, \"x\": 40, \"shape\": \"cross\", \"size\": \"10\"}, {\"y\": 124, \"x\": 34, \"shape\": \"cross\", \"size\": \"10\"}, {\"y\": 448, \"x\": 35, \"shape\": \"cross\", \"size\": \"10\"}, {\"y\": 198, \"x\": 41, \"shape\": \"cross\", \"size\": \"10\"}, {\"y\": 204, \"x\": 41, \"shape\": \"cross\", \"size\": \"10\"}, {\"y\": 280, \"x\": 38, \"shape\": \"cross\", \"size\": \"10\"}, {\"y\": 216, \"x\": 38, \"shape\": \"cross\", \"size\": \"10\"}, {\"y\": 222, \"x\": 46, \"shape\": \"cross\", \"size\": \"10\"}, {\"y\": 152, \"x\": 46, \"shape\": \"cross\", \"size\": \"10\"}, {\"y\": 780, \"x\": 40, \"shape\": \"cross\", \"size\": \"10\"}, {\"y\": 640, \"x\": 46, \"shape\": \"cross\", \"size\": \"10\"}, {\"y\": 492, \"x\": 49, \"shape\": \"cross\", \"size\": \"10\"}, {\"y\": 252, \"x\": 46, \"shape\": \"cross\", \"size\": \"10\"}, {\"y\": 430, \"x\": 45, \"shape\": \"cross\", \"size\": \"10\"}, {\"y\": 176, \"x\": 51, \"shape\": \"cross\", \"size\": \"10\"}, {\"y\": 900, \"x\": 53, \"shape\": \"cross\", \"size\": \"10\"}, {\"y\": 184, \"x\": 52, \"shape\": \"cross\", \"size\": \"10\"}, {\"y\": 188, \"x\": 51, \"shape\": \"cross\", \"size\": \"10\"}, {\"y\": 864, \"x\": 57, \"shape\": \"cross\", \"size\": \"10\"}, {\"y\": 392, \"x\": 57, \"shape\": \"cross\", \"size\": \"10\"}], \"key\": \"serie 2\", \"yAxis\": \"1\"}, {\"values\": [{\"y\": 0, \"x\": 6, \"shape\": \"triangle-up\", \"size\": \"100\"}, {\"y\": 40, \"x\": 11, \"shape\": \"triangle-up\", \"size\": \"100\"}, {\"y\": 100, \"x\": 3, \"shape\": \"triangle-up\", \"size\": \"100\"}, {\"y\": 135, \"x\": 4, \"shape\": \"triangle-up\", \"size\": \"100\"}, {\"y\": 180, \"x\": 12, \"shape\": \"triangle-up\", \"size\": \"100\"}, {\"y\": 100, \"x\": 6, \"shape\": \"triangle-up\", \"size\": \"100\"}, {\"y\": 300, \"x\": 11, \"shape\": \"triangle-up\", \"size\": \"100\"}, {\"y\": 140, \"x\": 8, \"shape\": \"triangle-up\", \"size\": \"100\"}, {\"y\": 400, \"x\": 18, \"shape\": \"triangle-up\", \"size\": \"100\"}, {\"y\": 315, \"x\": 19, \"shape\": \"triangle-up\", \"size\": \"100\"}, {\"y\": 250, \"x\": 11, \"shape\": \"triangle-up\", \"size\": \"100\"}, {\"y\": 440, \"x\": 20, \"shape\": \"triangle-up\", \"size\": \"100\"}, {\"y\": 60, \"x\": 15, \"shape\": \"triangle-up\", \"size\": \"100\"}, {\"y\": 130, \"x\": 14, \"shape\": \"triangle-up\", \"size\": \"100\"}, {\"y\": 630, \"x\": 21, \"shape\": \"triangle-up\", \"size\": \"100\"}, {\"y\": 600, \"x\": 16, \"shape\": \"triangle-up\", \"size\": \"100\"}, {\"y\": 80, \"x\": 21, \"shape\": \"triangle-up\", \"size\": \"100\"}, {\"y\": 680, \"x\": 24, \"shape\": \"triangle-up\", \"size\": \"100\"}, {\"y\": 450, \"x\": 23, \"shape\": \"triangle-up\", \"size\": \"100\"}, {\"y\": 950, \"x\": 21, \"shape\": \"triangle-up\", \"size\": \"100\"}, {\"y\": 300, \"x\": 27, \"shape\": \"triangle-up\", \"size\": \"100\"}, {\"y\": 840, \"x\": 27, \"shape\": \"triangle-up\", \"size\": \"100\"}, {\"y\": 880, \"x\": 27, \"shape\": \"triangle-up\", \"size\": \"100\"}, {\"y\": 805, \"x\": 24, \"shape\": \"triangle-up\", \"size\": \"100\"}, {\"y\": 360, \"x\": 27, \"shape\": \"triangle-up\", \"size\": \"100\"}, {\"y\": 250, \"x\": 34, \"shape\": \"triangle-up\", \"size\": \"100\"}, {\"y\": 910, \"x\": 29, \"shape\": \"triangle-up\", \"size\": \"100\"}, {\"y\": 1215, \"x\": 32, \"shape\": \"triangle-up\", \"size\": \"100\"}, {\"y\": 840, \"x\": 34, \"shape\": \"triangle-up\", \"size\": \"100\"}, {\"y\": 1160, \"x\": 36, \"shape\": \"triangle-up\", \"size\": \"100\"}, {\"y\": 600, \"x\": 40, \"shape\": \"triangle-up\", \"size\": \"100\"}, {\"y\": 310, \"x\": 34, \"shape\": \"triangle-up\", \"size\": \"100\"}, {\"y\": 1120, \"x\": 35, \"shape\": \"triangle-up\", \"size\": \"100\"}, {\"y\": 495, \"x\": 41, \"shape\": \"triangle-up\", \"size\": \"100\"}, {\"y\": 510, \"x\": 41, \"shape\": \"triangle-up\", \"size\": \"100\"}, {\"y\": 700, \"x\": 38, \"shape\": \"triangle-up\", \"size\": \"100\"}, {\"y\": 540, \"x\": 38, \"shape\": \"triangle-up\", \"size\": \"100\"}, {\"y\": 555, \"x\": 46, \"shape\": \"triangle-up\", \"size\": \"100\"}, {\"y\": 380, \"x\": 46, \"shape\": \"triangle-up\", \"size\": \"100\"}, {\"y\": 1950, \"x\": 40, \"shape\": \"triangle-up\", \"size\": \"100\"}, {\"y\": 1600, \"x\": 46, \"shape\": \"triangle-up\", \"size\": \"100\"}, {\"y\": 1230, \"x\": 49, \"shape\": \"triangle-up\", \"size\": \"100\"}, {\"y\": 630, \"x\": 46, \"shape\": \"triangle-up\", \"size\": \"100\"}, {\"y\": 1075, \"x\": 45, \"shape\": \"triangle-up\", \"size\": \"100\"}, {\"y\": 440, \"x\": 51, \"shape\": \"triangle-up\", \"size\": \"100\"}, {\"y\": 2250, \"x\": 53, \"shape\": \"triangle-up\", \"size\": \"100\"}, {\"y\": 460, \"x\": 52, \"shape\": \"triangle-up\", \"size\": \"100\"}, {\"y\": 470, \"x\": 51, \"shape\": \"triangle-up\", \"size\": \"100\"}, {\"y\": 2160, \"x\": 57, \"shape\": \"triangle-up\", \"size\": \"100\"}, {\"y\": 980, \"x\": 57, \"shape\": \"triangle-up\", \"size\": \"100\"}], \"key\": \"serie 3\", \"yAxis\": \"1\"}];\n",
        "</script>"
       ],
       "metadata": {},
       "output_type": "pyout",
       "prompt_number": 3,
       "text": [
        "<IPython.core.display.HTML at 0x2fc9450>"
       ]
      }
     ],
     "prompt_number": 3
    },
    {
     "cell_type": "code",
     "collapsed": false,
     "input": [],
     "language": "python",
     "metadata": {},
     "outputs": []
    }
   ],
   "metadata": {}
  }
 ]
}